{
 "cells": [
  {
   "cell_type": "code",
   "execution_count": 1,
   "metadata": {},
   "outputs": [
    {
     "data": {
      "text/html": [
       "<div>\n",
       "<style scoped>\n",
       "    .dataframe tbody tr th:only-of-type {\n",
       "        vertical-align: middle;\n",
       "    }\n",
       "\n",
       "    .dataframe tbody tr th {\n",
       "        vertical-align: top;\n",
       "    }\n",
       "\n",
       "    .dataframe thead th {\n",
       "        text-align: right;\n",
       "    }\n",
       "</style>\n",
       "<table border=\"1\" class=\"dataframe\">\n",
       "  <thead>\n",
       "    <tr style=\"text-align: right;\">\n",
       "      <th></th>\n",
       "      <th>id</th>\n",
       "      <th>level</th>\n",
       "      <th>person</th>\n",
       "    </tr>\n",
       "  </thead>\n",
       "  <tbody>\n",
       "    <tr>\n",
       "      <th>0</th>\n",
       "      <td>001</td>\n",
       "      <td>l1|l2|l2|l4</td>\n",
       "      <td>a|a|a|b</td>\n",
       "    </tr>\n",
       "    <tr>\n",
       "      <th>1</th>\n",
       "      <td>002</td>\n",
       "      <td>l2|l2|l4</td>\n",
       "      <td>b|a|b</td>\n",
       "    </tr>\n",
       "  </tbody>\n",
       "</table>\n",
       "</div>"
      ],
      "text/plain": [
       "    id        level   person\n",
       "0  001  l1|l2|l2|l4  a|a|a|b\n",
       "1  002     l2|l2|l4    b|a|b"
      ]
     },
     "execution_count": 1,
     "metadata": {},
     "output_type": "execute_result"
    }
   ],
   "source": [
    "import pandas as pd \n",
    "\n",
    "row1 = [\"001\",\"l1|l2|l2|l4\",\"a|a|a|b\"]\n",
    "\n",
    "row2 = [\"002\",\"l2|l2|l4\",\"b|a|b\"]\n",
    "\n",
    "df = pd.DataFrame(data=[row1,row2], columns=[\"id\", \"level\", \"person\"])\n",
    "\n",
    "df\n"
   ]
  },
  {
   "cell_type": "code",
   "execution_count": 2,
   "metadata": {},
   "outputs": [],
   "source": [
    "for col in df.columns:\n",
    "    if any(df[col].str.contains(\"|\")):\n",
    "        df[f\"{col}_transformed\"] = df[col].str.split(\"|\")"
   ]
  },
  {
   "cell_type": "code",
   "execution_count": 3,
   "metadata": {},
   "outputs": [
    {
     "data": {
      "text/html": [
       "<div>\n",
       "<style scoped>\n",
       "    .dataframe tbody tr th:only-of-type {\n",
       "        vertical-align: middle;\n",
       "    }\n",
       "\n",
       "    .dataframe tbody tr th {\n",
       "        vertical-align: top;\n",
       "    }\n",
       "\n",
       "    .dataframe thead th {\n",
       "        text-align: right;\n",
       "    }\n",
       "</style>\n",
       "<table border=\"1\" class=\"dataframe\">\n",
       "  <thead>\n",
       "    <tr style=\"text-align: right;\">\n",
       "      <th></th>\n",
       "      <th>id</th>\n",
       "      <th>level</th>\n",
       "      <th>person</th>\n",
       "      <th>id_transformed</th>\n",
       "      <th>level_transformed</th>\n",
       "      <th>person_transformed</th>\n",
       "    </tr>\n",
       "  </thead>\n",
       "  <tbody>\n",
       "    <tr>\n",
       "      <th>0</th>\n",
       "      <td>001</td>\n",
       "      <td>l1|l2|l2|l4</td>\n",
       "      <td>a|a|a|b</td>\n",
       "      <td>[001]</td>\n",
       "      <td>[l1, l2, l2, l4]</td>\n",
       "      <td>[a, a, a, b]</td>\n",
       "    </tr>\n",
       "    <tr>\n",
       "      <th>1</th>\n",
       "      <td>002</td>\n",
       "      <td>l2|l2|l4</td>\n",
       "      <td>b|a|b</td>\n",
       "      <td>[002]</td>\n",
       "      <td>[l2, l2, l4]</td>\n",
       "      <td>[b, a, b]</td>\n",
       "    </tr>\n",
       "  </tbody>\n",
       "</table>\n",
       "</div>"
      ],
      "text/plain": [
       "    id        level   person id_transformed level_transformed  \\\n",
       "0  001  l1|l2|l2|l4  a|a|a|b          [001]  [l1, l2, l2, l4]   \n",
       "1  002     l2|l2|l4    b|a|b          [002]      [l2, l2, l4]   \n",
       "\n",
       "  person_transformed  \n",
       "0       [a, a, a, b]  \n",
       "1          [b, a, b]  "
      ]
     },
     "execution_count": 3,
     "metadata": {},
     "output_type": "execute_result"
    }
   ],
   "source": [
    "df"
   ]
  },
  {
   "cell_type": "code",
   "execution_count": 4,
   "metadata": {},
   "outputs": [
    {
     "data": {
      "text/html": [
       "<div>\n",
       "<style scoped>\n",
       "    .dataframe tbody tr th:only-of-type {\n",
       "        vertical-align: middle;\n",
       "    }\n",
       "\n",
       "    .dataframe tbody tr th {\n",
       "        vertical-align: top;\n",
       "    }\n",
       "\n",
       "    .dataframe thead th {\n",
       "        text-align: right;\n",
       "    }\n",
       "</style>\n",
       "<table border=\"1\" class=\"dataframe\">\n",
       "  <thead>\n",
       "    <tr style=\"text-align: right;\">\n",
       "      <th></th>\n",
       "      <th>id</th>\n",
       "      <th>level</th>\n",
       "      <th>person</th>\n",
       "      <th>id_transformed</th>\n",
       "      <th>level_transformed</th>\n",
       "      <th>person_transformed</th>\n",
       "    </tr>\n",
       "  </thead>\n",
       "  <tbody>\n",
       "    <tr>\n",
       "      <th>0</th>\n",
       "      <td>001</td>\n",
       "      <td>l1|l2|l2|l4</td>\n",
       "      <td>a|a|a|b</td>\n",
       "      <td>[001]</td>\n",
       "      <td>l1</td>\n",
       "      <td>a</td>\n",
       "    </tr>\n",
       "    <tr>\n",
       "      <th>0</th>\n",
       "      <td>001</td>\n",
       "      <td>l1|l2|l2|l4</td>\n",
       "      <td>a|a|a|b</td>\n",
       "      <td>[001]</td>\n",
       "      <td>l2</td>\n",
       "      <td>a</td>\n",
       "    </tr>\n",
       "    <tr>\n",
       "      <th>0</th>\n",
       "      <td>001</td>\n",
       "      <td>l1|l2|l2|l4</td>\n",
       "      <td>a|a|a|b</td>\n",
       "      <td>[001]</td>\n",
       "      <td>l2</td>\n",
       "      <td>a</td>\n",
       "    </tr>\n",
       "    <tr>\n",
       "      <th>0</th>\n",
       "      <td>001</td>\n",
       "      <td>l1|l2|l2|l4</td>\n",
       "      <td>a|a|a|b</td>\n",
       "      <td>[001]</td>\n",
       "      <td>l4</td>\n",
       "      <td>b</td>\n",
       "    </tr>\n",
       "    <tr>\n",
       "      <th>1</th>\n",
       "      <td>002</td>\n",
       "      <td>l2|l2|l4</td>\n",
       "      <td>b|a|b</td>\n",
       "      <td>[002]</td>\n",
       "      <td>l2</td>\n",
       "      <td>b</td>\n",
       "    </tr>\n",
       "    <tr>\n",
       "      <th>1</th>\n",
       "      <td>002</td>\n",
       "      <td>l2|l2|l4</td>\n",
       "      <td>b|a|b</td>\n",
       "      <td>[002]</td>\n",
       "      <td>l2</td>\n",
       "      <td>a</td>\n",
       "    </tr>\n",
       "    <tr>\n",
       "      <th>1</th>\n",
       "      <td>002</td>\n",
       "      <td>l2|l2|l4</td>\n",
       "      <td>b|a|b</td>\n",
       "      <td>[002]</td>\n",
       "      <td>l4</td>\n",
       "      <td>b</td>\n",
       "    </tr>\n",
       "  </tbody>\n",
       "</table>\n",
       "</div>"
      ],
      "text/plain": [
       "    id        level   person id_transformed level_transformed  \\\n",
       "0  001  l1|l2|l2|l4  a|a|a|b          [001]                l1   \n",
       "0  001  l1|l2|l2|l4  a|a|a|b          [001]                l2   \n",
       "0  001  l1|l2|l2|l4  a|a|a|b          [001]                l2   \n",
       "0  001  l1|l2|l2|l4  a|a|a|b          [001]                l4   \n",
       "1  002     l2|l2|l4    b|a|b          [002]                l2   \n",
       "1  002     l2|l2|l4    b|a|b          [002]                l2   \n",
       "1  002     l2|l2|l4    b|a|b          [002]                l4   \n",
       "\n",
       "  person_transformed  \n",
       "0                  a  \n",
       "0                  a  \n",
       "0                  a  \n",
       "0                  b  \n",
       "1                  b  \n",
       "1                  a  \n",
       "1                  b  "
      ]
     },
     "execution_count": 4,
     "metadata": {},
     "output_type": "execute_result"
    }
   ],
   "source": [
    "df.explode(column=[\"level_transformed\", \"person_transformed\"])"
   ]
  },
  {
   "cell_type": "code",
   "execution_count": 7,
   "metadata": {
    "tags": []
   },
   "outputs": [
    {
     "data": {
      "text/plain": [
       "['id_transformed', 'level_transformed', 'person_transformed']"
      ]
     },
     "execution_count": 7,
     "metadata": {},
     "output_type": "execute_result"
    }
   ],
   "source": [
    "transformed_columns = [col for col in df.columns if 'transformed' in col]\n",
    "transformed_columns"
   ]
  },
  {
   "cell_type": "code",
   "execution_count": null,
   "metadata": {},
   "outputs": [],
   "source": []
  }
 ],
 "metadata": {
  "kernelspec": {
   "display_name": "Python 3 (ipykernel)",
   "language": "python",
   "name": "python3"
  },
  "language_info": {
   "codemirror_mode": {
    "name": "ipython",
    "version": 3
   },
   "file_extension": ".py",
   "mimetype": "text/x-python",
   "name": "python",
   "nbconvert_exporter": "python",
   "pygments_lexer": "ipython3",
   "version": "3.11.4"
  }
 },
 "nbformat": 4,
 "nbformat_minor": 4
}
